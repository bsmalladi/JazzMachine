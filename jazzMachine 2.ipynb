{
 "cells": [
  {
   "cell_type": "code",
   "execution_count": 1,
   "metadata": {
    "collapsed": true
   },
   "outputs": [],
   "source": [
    "import music21 as mus\n",
    "import numpy as np"
   ]
  },
  {
   "cell_type": "code",
   "execution_count": 6,
   "metadata": {
    "collapsed": true
   },
   "outputs": [],
   "source": [
    "cPent = [\"C\", \"D\", \"E\", \"G\", \"A\", \"c\", \"d\", \"e\", \"g\", \"a\", \"c'\"]\n",
    "melody = []"
   ]
  },
  {
   "cell_type": "code",
   "execution_count": 17,
   "metadata": {
    "collapsed": false
   },
   "outputs": [],
   "source": [
    "class Note:\n",
    "    def __init__ (self, inName):\n",
    "        self.name = inName\n",
    "        \n",
    "    def initNotes (self, inNextNotes, inPbNextNotes):\n",
    "        self.nextNotes = inNextNotes\n",
    "        self.pbNextNotes = inPbNextNotes\n",
    "    \n",
    "    def chooseNextNote ():\n",
    "        probOut = np.random.multinomial(1, pbNextNotes)\n",
    "        indOut = np.where (prob) [0][0]\n",
    "        return nextNotes[indOut]"
   ]
  },
  {
   "cell_type": "code",
   "execution_count": 23,
   "metadata": {
    "collapsed": false
   },
   "outputs": [],
   "source": [
    "noteC = Note('C')\n",
    "noteD = Note('D')\n",
    "noteE = Note('E')\n",
    "noteG = Note('G')\n",
    "noteA = Note('A')\n",
    "notec = Note('c')\n",
    "noted = Note('d')\n",
    "notee = Note('e')\n",
    "noteg = Note('g')\n",
    "notea = Note('a')\n",
    "noteHighc = Note(\"c'\")"
   ]
  },
  {
   "cell_type": "code",
   "execution_count": 19,
   "metadata": {
    "collapsed": false
   },
   "outputs": [
    {
     "data": {
      "text/plain": [
       "<__main__.Note instance at 0x10d3c2950>"
      ]
     },
     "execution_count": 19,
     "metadata": {},
     "output_type": "execute_result"
    }
   ],
   "source": []
  },
  {
   "cell_type": "code",
   "execution_count": 20,
   "metadata": {
    "collapsed": false
   },
   "outputs": [
    {
     "name": "stdout",
     "output_type": "stream",
     "text": [
      "<__main__.Note instance at 0x10d3c2950>\n"
     ]
    }
   ],
   "source": [
    "print(noteC)"
   ]
  },
  {
   "cell_type": "code",
   "execution_count": 22,
   "metadata": {
    "collapsed": false
   },
   "outputs": [
    {
     "name": "stdout",
     "output_type": "stream",
     "text": [
      "<__main__.Note instance at 0x10d3c2950>\n"
     ]
    }
   ],
   "source": [
    "print(str(noteC))"
   ]
  },
  {
   "cell_type": "code",
   "execution_count": null,
   "metadata": {
    "collapsed": true
   },
   "outputs": [],
   "source": []
  }
 ],
 "metadata": {
  "anaconda-cloud": {},
  "kernelspec": {
   "display_name": "Python [conda root]",
   "language": "python",
   "name": "conda-root-py"
  },
  "language_info": {
   "codemirror_mode": {
    "name": "ipython",
    "version": 2
   },
   "file_extension": ".py",
   "mimetype": "text/x-python",
   "name": "python",
   "nbconvert_exporter": "python",
   "pygments_lexer": "ipython2",
   "version": "2.7.12"
  }
 },
 "nbformat": 4,
 "nbformat_minor": 1
}
